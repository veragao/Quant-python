{
 "cells": [
  {
   "cell_type": "markdown",
   "metadata": {},
   "source": [
    "# Hyper-ants: ants traveling in hyperspace\n",
    "\n",
    "An ant is at the origin in n-dimensional Euclidean space, and is about to traverse the edges of a hypercube with sides of unit length. At each vertex, the ant randomly chooses an edge, and moves to the next vertex. On average, how far will the ant travel until it reaches (1,1,...,1)?"
   ]
  },
  {
   "cell_type": "code",
   "execution_count": 61,
   "metadata": {},
   "outputs": [
    {
     "data": {
      "text/plain": [
       "{3: 216,\n",
       " 5: 189,\n",
       " 7: 144,\n",
       " 9: 99,\n",
       " 11: 80,\n",
       " 13: 63,\n",
       " 15: 54,\n",
       " 17: 33,\n",
       " 19: 24,\n",
       " 21: 26,\n",
       " 23: 18,\n",
       " 25: 16,\n",
       " 27: 4,\n",
       " 29: 10,\n",
       " 31: 2,\n",
       " 33: 4,\n",
       " 35: 8,\n",
       " 37: 3,\n",
       " 39: 3,\n",
       " 41: 1,\n",
       " 43: 1,\n",
       " 45: 2}"
      ]
     },
     "execution_count": 61,
     "metadata": {},
     "output_type": "execute_result"
    }
   ],
   "source": [
    "import random\n",
    "import numpy as np\n",
    "\n",
    "def NumOfMoves(dimension):\n",
    "    # Mento Carlo Simulation\n",
    "    if dimension == 1:\n",
    "        return 1\n",
    "    vertex = [0] * dimension\n",
    "    moves = 0\n",
    "    while sum(vertex) < dimension:\n",
    "        axis = random.randint(0,dimension - 1)\n",
    "        vertex[axis] = 1 - vertex[axis]\n",
    "        moves += 1\n",
    "    return moves\n",
    "\n",
    "NumOfTrials = 1000\n",
    "trials = [NumOfMoves(3) for i in range(NumOfTrials)]\n",
    "sum([NumOfMoves(3) for i in range(NumOfTrials)]) / NumOfTrials\n",
    "# initialize dictionary to count frequency of number of moves\n",
    "NumOfMovesCount = {trial:0 for trial in trials}\n",
    "for trial in trials:\n",
    "    NumOfMovesCount[trial] += 1\n",
    "NumOfMovesCount\n",
    "\n",
    "# MoveList = [0] * 1000\n",
    "# for i in range(0,1000):\n",
    "#     MoveList[i] = numberOfMoves(3)\n",
    "# print(np.average(MoveList))"
   ]
  },
  {
   "cell_type": "code",
   "execution_count": null,
   "metadata": {
    "collapsed": true
   },
   "outputs": [],
   "source": []
  }
 ],
 "metadata": {
  "kernelspec": {
   "display_name": "Python 3",
   "language": "python",
   "name": "python3"
  },
  "language_info": {
   "codemirror_mode": {
    "name": "ipython",
    "version": 3
   },
   "file_extension": ".py",
   "mimetype": "text/x-python",
   "name": "python",
   "nbconvert_exporter": "python",
   "pygments_lexer": "ipython3",
   "version": "3.6.1"
  }
 },
 "nbformat": 4,
 "nbformat_minor": 2
}
