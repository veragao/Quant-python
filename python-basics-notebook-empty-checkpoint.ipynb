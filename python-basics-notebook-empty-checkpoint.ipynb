{
 "cells": [
  {
   "cell_type": "markdown",
   "metadata": {},
   "source": [
    "# Python Basics\n",
    "\n",
    "This is a collection of exercises that I wrote as a refresher of key Python features.\n",
    "\n",
    "## Built-in datatypes and variable binding\n",
    "Python uses <a href=“http://stackoverflow.com/questions/11328920/is-python-strongly-typed”>dynamic typing</a>. In short, this means that the type of data in a variable is not explicitly identified in a program, like it is in C++ or Java. "
   ]
  },
  {
   "cell_type": "code",
   "execution_count": 7,
   "metadata": {},
   "outputs": [
    {
     "name": "stdout",
     "output_type": "stream",
     "text": [
      "1 <class 'int'>\n",
      "False <class 'bool'>\n",
      "[1, 32.5, 'Quant'] <class 'list'>\n",
      "[(0, 0), (1, 1), (2, 4), (3, 9), (4, 16), (5, 25), (6, 36), (7, 49), (8, 64), (9, 81)] <class 'list'>\n"
     ]
    }
   ],
   "source": [
    "a = 1\n",
    "print(a, type(a))\n",
    "a = 2==235\n",
    "print(a, type(a))\n",
    "a = [1,32.5,'Quant']\n",
    "print(a, type(a))\n",
    "a = [(0, 0), (1, 1), (2, 4), (3, 9), (4, 16), (5, 25), (6, 36), (7, 49), (8, 64), (9, 81)]\n",
    "print(a, type(a))\n"
   ]
  },
  {
   "cell_type": "markdown",
   "metadata": {},
   "source": [
    "## ints and floats"
   ]
  },
  {
   "cell_type": "code",
   "execution_count": 11,
   "metadata": {},
   "outputs": [
    {
     "name": "stdout",
     "output_type": "stream",
     "text": [
      "3\n",
      "3.5\n",
      "1\n",
      "8\n",
      "8.0\n",
      "2.0\n"
     ]
    }
   ],
   "source": [
    "# 7/2 is 3\n",
    "# 7/2.0 is 3.5\n",
    "# 7%2 is 1\n",
    "# 2**3 is 8\n",
    "# 2**3.0 is 8.0\n",
    "print(7//2)\n",
    "print(7/2.0)\n",
    "print(7%2)\n",
    "print(2**3)\n",
    "print(2**3.0)\n",
    "print(4**0.5)"
   ]
  },
  {
   "cell_type": "markdown",
   "metadata": {},
   "source": [
    "### boolean"
   ]
  },
  {
   "cell_type": "code",
   "execution_count": 27,
   "metadata": {},
   "outputs": [
    {
     "name": "stdout",
     "output_type": "stream",
     "text": [
      "a is True\n",
      "b is False\n",
      "a and b is False\n",
      "a or b is True\n"
     ]
    }
   ],
   "source": [
    "# a is True\n",
    "# b is False\n",
    "# a and b is False\n",
    "# a or b is True\n",
    "a = True\n",
    "b = not a\n",
    "print('a is', a)\n",
    "print('b is', b)\n",
    "print('a and b is', a and b)\n",
    "print('a or b is',a or b)\n"
   ]
  },
  {
   "cell_type": "markdown",
   "metadata": {},
   "source": [
    "### Strings"
   ]
  },
  {
   "cell_type": "code",
   "execution_count": 3,
   "metadata": {},
   "outputs": [
    {
     "name": "stdout",
     "output_type": "stream",
     "text": [
      "Hello World\n",
      "['Hello', 'World']\n",
      "Hello#World\n"
     ]
    }
   ],
   "source": [
    "# Hello World\n",
    "# ['Hello', 'World']\n",
    "# Hello_World\n",
    "a = 'Hello'\n",
    "b = 'World'\n",
    "c = a + ' ' + b\n",
    "print(c)\n",
    "words = c.split()\n",
    "print(words)\n",
    "print('#'.join(words))\n"
   ]
  },
  {
   "cell_type": "markdown",
   "metadata": {},
   "source": [
    "### Lists"
   ]
  },
  {
   "cell_type": "code",
   "execution_count": 7,
   "metadata": {},
   "outputs": [
    {
     "name": "stdout",
     "output_type": "stream",
     "text": [
      "[0, 1, 2, 3, 4]\n",
      "[0, 2, 4]\n",
      "[10, 11, 12, 13, 14]\n",
      "[10, 11, 12]\n",
      "[10, 11, 12, 13, 14, 10, 11, 12, 13, 14, 10, 11, 12, 13, 14]\n",
      "[1, 1, 1, 1]\n",
      "[(0, 0), (1, 1), (2, 4), (3, 9), (4, 16), (5, 25), (6, 36), (7, 49), (8, 64), (9, 81)]\n"
     ]
    }
   ],
   "source": [
    "'''\n",
    "[0, 1, 2, 3, 4] [0, 1] [1, 2] [2, 3, 4]\n",
    "y = [1, 3, 5]\n",
    "y*2 is [1, 3, 5, 1, 3, 5]\n",
    "[0]*5 is [0, 0, 0, 0, 0]\n",
    "'''\n",
    "x = list(range(0,5))\n",
    "print(x)\n",
    "x = list(range(0,5,2))\n",
    "print(x)\n",
    "x = list(range(10,15))\n",
    "print(x)\n",
    "print(x[0:3])\n",
    "print(x * 3)\n",
    "y = [1] * 4\n",
    "print(y)\n",
    "z = [(i,i * i) for i in range(10)]\n",
    "print(z)\n",
    "#[[y,y*y]for y in range 10]\n",
    "# y = [(y, y * y) for y in range 10]\n",
    "# print(y)"
   ]
  },
  {
   "cell_type": "markdown",
   "metadata": {},
   "source": [
    "## Looping (for, while, reduce)"
   ]
  },
  {
   "cell_type": "code",
   "execution_count": 9,
   "metadata": {},
   "outputs": [
    {
     "name": "stdout",
     "output_type": "stream",
     "text": [
      "5050\n"
     ]
    }
   ],
   "source": [
    "#for\n",
    "#sum integers from 1 to 100\n",
    "sum = 0\n",
    "for i in list(range(1,101)):\n",
    "    sum += i\n",
    "print(sum)\n"
   ]
  },
  {
   "cell_type": "code",
   "execution_count": 5,
   "metadata": {},
   "outputs": [
    {
     "name": "stdout",
     "output_type": "stream",
     "text": [
      "5050\n"
     ]
    }
   ],
   "source": [
    "#while\n",
    "#sum integers from 1 to 100\n",
    "sum = 0\n",
    "i = 1\n",
    "while i < 101:\n",
    "    sum += i\n",
    "    i += 1\n",
    "print(sum)"
   ]
  },
  {
   "cell_type": "code",
   "execution_count": 18,
   "metadata": {},
   "outputs": [
    {
     "data": {
      "text/plain": [
       "5050"
      ]
     },
     "execution_count": 18,
     "metadata": {},
     "output_type": "execute_result"
    }
   ],
   "source": [
    "#reduce\n",
    "#sum integers from 1 to 100\n",
    "import functools\n",
    "sum = 0\n",
    "functools.reduce(lambda i, sum:i + sum, list(range(1,101)))"
   ]
  },
  {
   "cell_type": "code",
   "execution_count": 26,
   "metadata": {},
   "outputs": [
    {
     "name": "stdout",
     "output_type": "stream",
     "text": [
      "5050\n"
     ]
    }
   ],
   "source": [
    "#Python's sum\n",
    "import numpy\n",
    "dir(numpy)\n",
    "print(numpy.sum(range(1,101)))"
   ]
  },
  {
   "cell_type": "code",
   "execution_count": 21,
   "metadata": {},
   "outputs": [
    {
     "name": "stdout",
     "output_type": "stream",
     "text": [
      "5050.0\n"
     ]
    }
   ],
   "source": [
    "#preferred way to sum floating point (faster)\n",
    "import math\n",
    "dir(math)\n",
    "#print(np.sum(range(1,101)))\n",
    "print(math.fsum(range(1,101)))"
   ]
  },
  {
   "cell_type": "markdown",
   "metadata": {},
   "source": [
    "### Conditional execution (if)\n"
   ]
  },
  {
   "cell_type": "code",
   "execution_count": 21,
   "metadata": {},
   "outputs": [
    {
     "name": "stdout",
     "output_type": "stream",
     "text": [
      "0.5 hh\n"
     ]
    }
   ],
   "source": [
    "import random\n",
    "r = random.random()\n",
    "if r < 0.5:\n",
    "    TB = 'B'\n",
    "elif r >= 0.5:\n",
    "    TB = 'T'\n",
    "# else:\n",
    "    \n",
    "print(r,TB)"
   ]
  },
  {
   "cell_type": "markdown",
   "metadata": {},
   "source": [
    "### Dictionaries"
   ]
  },
  {
   "cell_type": "code",
   "execution_count": 28,
   "metadata": {},
   "outputs": [
    {
     "name": "stdout",
     "output_type": "stream",
     "text": [
      "{'A': 123, 'B': 234, 'C': 345} <class 'dict'>\n",
      "123\n"
     ]
    }
   ],
   "source": [
    "price = {'A':123,'B':234,'C':345}\n",
    "print(price,type(price))\n",
    "print(price['A'])"
   ]
  },
  {
   "cell_type": "code",
   "execution_count": 31,
   "metadata": {},
   "outputs": [
    {
     "name": "stdout",
     "output_type": "stream",
     "text": [
      "{'T': 1, 'h': 2, 'e': 3, ' ': 8, 'q': 1, 'u': 2, 'i': 1, 'c': 1, 'k': 1, 'b': 1, 'r': 2, 'o': 4, 'w': 1, 'n': 1, 'f': 1, 'x': 1, 'j': 1, 'm': 1, 'p': 1, 's': 1, 'v': 1, 't': 1, 'l': 1, 'a': 1, 'z': 1, 'y': 1, 'd': 1, 'g': 1, '.': 1}\n"
     ]
    }
   ],
   "source": [
    "#distribution of characters in a string\n",
    "s = \"The quick brown fox jumps over the lazy dog.\"\n",
    "char2countDict = {c:0 for c in s}\n",
    "for c in s:\n",
    "    char2countDict[c] += 1\n",
    "print(char2countDict)"
   ]
  },
  {
   "cell_type": "markdown",
   "metadata": {},
   "source": [
    "## Functions"
   ]
  },
  {
   "cell_type": "code",
   "execution_count": 47,
   "metadata": {},
   "outputs": [
    {
     "name": "stdout",
     "output_type": "stream",
     "text": [
      "0 ! = 1\n",
      "1 ! = 0\n",
      "2 ! = 0\n",
      "3 ! = 0\n",
      "4 ! = 0\n"
     ]
    }
   ],
   "source": [
    "def factorial(n):\n",
    "    if n == 0:\n",
    "        return 1\n",
    "    else:\n",
    "        fac = 1\n",
    "        for i in range(n + 1):\n",
    "            fac *= i\n",
    "        return fac\n",
    "for i in range(5):\n",
    "    print(i, '! =', factorial(i))"
   ]
  },
  {
   "cell_type": "code",
   "execution_count": 56,
   "metadata": {},
   "outputs": [
    {
     "name": "stdout",
     "output_type": "stream",
     "text": [
      "16\n"
     ]
    }
   ],
   "source": [
    "def gcd(a, b):\n",
    "# write this function...\n",
    "    if a == 1 or b == 1:\n",
    "        return 1\n",
    "    elif a == 0 or b == 0:\n",
    "        return a + b\n",
    "    elif a < b:\n",
    "        return gcd(a, b%a)\n",
    "    elif a == b:\n",
    "        return a\n",
    "    else:\n",
    "        return gcd(b, a%b)\n",
    "    \n",
    "print(gcd(144, 1024))\n"
   ]
  },
  {
   "cell_type": "code",
   "execution_count": null,
   "metadata": {
    "collapsed": true
   },
   "outputs": [],
   "source": []
  }
 ],
 "metadata": {
  "kernelspec": {
   "display_name": "Python 3",
   "language": "python",
   "name": "python3"
  },
  "language_info": {
   "codemirror_mode": {
    "name": "ipython",
    "version": 3
   },
   "file_extension": ".py",
   "mimetype": "text/x-python",
   "name": "python",
   "nbconvert_exporter": "python",
   "pygments_lexer": "ipython3",
   "version": "3.6.1"
  }
 },
 "nbformat": 4,
 "nbformat_minor": 1
}
